{
 "cells": [
  {
   "cell_type": "code",
   "execution_count": null,
   "metadata": {
    "editable": true
   },
   "outputs": [],
   "source": [
    "import pandas as pd\n",
    "import boto3\n",
    "import json"
   ]
  },
  {
   "cell_type": "code",
   "execution_count": null,
   "metadata": {
    "editable": true
   },
   "outputs": [],
   "source": [
    "\"\"\"\n",
    "Load configuration parameters to AWS.\n",
    "\"\"\"\n",
    "import configparser\n",
    "config = configparser.ConfigParser()\n",
    "config.read_file(open('dwh.cfg'))\n",
    "config_dict = dict()\n",
    "\n",
    "config_dict['KEY']                    = config.get('AWS','KEY')\n",
    "config_dict['SECRET']                 = config.get('AWS','SECRET')\n",
    "\n",
    "config_dict['CLUSTER_TYPE']       = config.get(\"DWH\",\"CLUSTER_TYPE\")\n",
    "config_dict['NUM_NODES']          = config.get(\"DWH\",\"NUM_NODES\")\n",
    "config_dict['NODE_TYPE']          = config.get(\"DWH\",\"NODE_TYPE\")\n",
    "config_dict['IAM_ROLE_NAME']      = config.get(\"DWH\", \"IAM_ROLE_NAME\")\n",
    "config_dict['CLUSTER_IDENTIFIER'] = config.get(\"DWH\",\"CLUSTER_IDENTIFIER\")\n",
    "\n",
    "config_dict['DB_NAME']                 = config.get(\"CLUSTER\",\"DB_NAME\")\n",
    "config_dict['DB_USER']            = config.get(\"CLUSTER\",\"DB_USER\")\n",
    "config_dict['DB_PASSWORD']        = config.get(\"CLUSTER\",\"DB_PASSWORD\")\n",
    "config_dict['DB_PORT']               = config.get(\"CLUSTER\",\"DB_PORT\")\n",
    "\n",
    "config_dict['POLICY1']               = config.get(\"IAM_ROLE\", \"POLICY1\")\n",
    "config_dict['POLICY2']               = config.get(\"IAM_ROLE\", \"POLICY2\")\n",
    "config_dict['ARN']               = config.get(\"IAM_ROLE\", \"ARN\")"
   ]
  },
  {
   "cell_type": "code",
   "execution_count": null,
   "metadata": {
    "editable": true
   },
   "outputs": [],
   "source": [
    "\"\"\"\n",
    "Create clients for EC2, S3, IAM and Redshift\n",
    "\"\"\"\n",
    "ec2 = boto3.resource('ec2',\n",
    "                     region_name=\"us-west-2\",\n",
    "                     aws_access_key_id=config_dict['KEY'],\n",
    "                     aws_secret_access_key=config_dict['SECRET']\n",
    "                    )\n",
    "\n",
    "s3 = boto3.resource('s3',\n",
    "                     region_name=\"us-west-2\",\n",
    "                     aws_access_key_id=config_dict['KEY'],\n",
    "                     aws_secret_access_key=config_dict['SECRET']\n",
    "                   )\n",
    "\n",
    "iam = boto3.client('iam',\n",
    "                    aws_access_key_id=config_dict['KEY'],\n",
    "                    aws_secret_access_key=config_dict['SECRET'],\n",
    "                    region_name='us-west-2'\n",
    "                  )\n",
    "\n",
    "redshift = boto3.client('redshift',\n",
    "                         region_name=\"us-west-2\",\n",
    "                         aws_access_key_id=config_dict['KEY'],\n",
    "                         aws_secret_access_key=config_dict['SECRET']\n",
    "                       )\n",
    "\n",
    "print('Success creating clients.')"
   ]
  },
  {
   "cell_type": "code",
   "execution_count": null,
   "metadata": {
    "editable": true
   },
   "outputs": [],
   "source": [
    "\"\"\"\n",
    "Create iam role.\n",
    "\"\"\"    \n",
    "try:\n",
    "    print('Creating a new IAM Role')\n",
    "    dwhRole = iam.create_role(Path='/',\n",
    "                              RoleName=config_dict['IAM_ROLE_NAME'],\n",
    "                              Description = \"Allows Redshift clusters to call AWS services on your behalf.\",\n",
    "                              AssumeRolePolicyDocument=json.dumps(\n",
    "                                  {'Statement': [{'Action': 'sts:AssumeRole',\n",
    "                                                  'Effect': 'Allow',\n",
    "                                                  'Principal': {'Service': 'redshift.amazonaws.com'}}],\n",
    "                                   'Version': '2012-10-17'})\n",
    "                              )    \n",
    "except Exception as e:\n",
    "    print(e)\n",
    "\n",
    "try:\n",
    "    print('Creating role policy')\n",
    "    iam.attach_role_policy(RoleName=config_dict['IAM_ROLE_NAME'],\n",
    "                           PolicyArn=config_dict['POLICY1']\n",
    "                           )['ResponseMetadata']['HTTPStatusCode']\n",
    "    iam.attach_role_policy(RoleName=config_dict['IAM_ROLE_NAME'],\n",
    "                           PolicyArn=config_dict['POLICY2']\n",
    "                           )['ResponseMetadata']['HTTPStatusCode']\n",
    "except Exception as e:\n",
    "    print(e)\n",
    "\n",
    "roleArn = iam.get_role(RoleName=config_dict['IAM_ROLE_NAME'])['Role']['Arn']\n",
    "print('role arn: ', roleArn)"
   ]
  },
  {
   "cell_type": "code",
   "execution_count": null,
   "metadata": {
    "editable": true
   },
   "outputs": [],
   "source": [
    "\"\"\"\n",
    "Create cluster.\n",
    "\"\"\" \n",
    "try:\n",
    "    print('Creating redshift cluster')\n",
    "    response = redshift.create_cluster(ClusterType=config_dict['CLUSTER_TYPE'],\n",
    "                                       NodeType=config_dict['NODE_TYPE'],\n",
    "                                       NumberOfNodes=int(config_dict['NUM_NODES']),\n",
    "                                       DBName=config_dict['DB_NAME'],\n",
    "                                       ClusterIdentifier=config_dict['CLUSTER_IDENTIFIER'],\n",
    "                                       MasterUsername=config_dict['DB_USER'],\n",
    "                                       MasterUserPassword=config_dict['DB_PASSWORD'],\n",
    "                                       IamRoles=[roleArn] \n",
    "                                       )\n",
    "except Exception as e:\n",
    "    print(e)"
   ]
  },
  {
   "cell_type": "code",
   "execution_count": null,
   "metadata": {
    "editable": true
   },
   "outputs": [],
   "source": [
    "\"\"\"\n",
    "Test if cluster is available.\n",
    "\"\"\"\n",
    "def prettyRedshiftProps(props):\n",
    "    pd.set_option('display.max_colwidth', -1)\n",
    "    keysToShow = [\"ClusterIdentifier\", \"NodeType\", \"ClusterStatus\", \"MasterUsername\", \"DBName\", \"Endpoint\", \"NumberOfNodes\", 'VpcId']\n",
    "    x = [(k, v) for k,v in props.items() if k in keysToShow]\n",
    "    return pd.DataFrame(data=x, columns=[\"Key\", \"Value\"])\n",
    "\n",
    "myClusterProps = redshift.describe_clusters(ClusterIdentifier=config_dict['CLUSTER_IDENTIFIER'])['Clusters'][0]\n",
    "prettyRedshiftProps(myClusterProps)"
   ]
  },
  {
   "cell_type": "code",
   "execution_count": null,
   "metadata": {
    "editable": true
   },
   "outputs": [],
   "source": [
    "\"\"\"\n",
    "Open incoming TCP port.\n",
    "\"\"\" \n",
    "try:\n",
    "    vpc = ec2.Vpc(id=myClusterProps['VpcId'])\n",
    "    defaultSg = list(vpc.security_groups.all())[-1]\n",
    "    print(defaultSg)\n",
    "\n",
    "    defaultSg.authorize_ingress(\n",
    "        GroupName= defaultSg.group_name,\n",
    "        CidrIp='0.0.0.0/0',\n",
    "        IpProtocol='TCP',\n",
    "        FromPort=int(config_dict['DB_PORT']),\n",
    "        ToPort=int(config_dict['DB_PORT'])\n",
    "    )\n",
    "except Exception as e:\n",
    "    print(e)"
   ]
  },
  {
   "cell_type": "code",
   "execution_count": null,
   "metadata": {
    "editable": true
   },
   "outputs": [],
   "source": [
    "\"\"\"\n",
    "Test connection.\n",
    "\"\"\"\n",
    "%load_ext sql\n",
    "conn_string=\"postgresql://{}:{}@{}:{}/{}\".format(config_dict['DB_USER'], config_dict['DB_PASSWORD'], myClusterProps['Endpoint']['Address'], config_dict['DB_PORT'],config_dict['DB_NAME'])\n",
    "print(conn_string)\n",
    "%sql $conn_string"
   ]
  },
  {
   "cell_type": "code",
   "execution_count": null,
   "metadata": {
    "editable": true
   },
   "outputs": [],
   "source": [
    "\"\"\"\n",
    "Delete cluster.\n",
    "\"\"\"\n",
    "redshift.delete_cluster( ClusterIdentifier=config_dict['CLUSTER_IDENTIFIER'],  SkipFinalClusterSnapshot=True)\n"
   ]
  },
  {
   "cell_type": "code",
   "execution_count": null,
   "metadata": {
    "editable": true
   },
   "outputs": [],
   "source": [
    "\"\"\"\n",
    "Test if cluster is deleted.\n",
    "\"\"\"\n",
    "myClusterProps = redshift.describe_clusters(ClusterIdentifier=config_dict['CLUSTER_IDENTIFIER'])['Clusters'][0]\n",
    "prettyRedshiftProps(myClusterProps)"
   ]
  },
  {
   "cell_type": "code",
   "execution_count": null,
   "metadata": {
    "editable": true
   },
   "outputs": [],
   "source": [
    "\"\"\"\n",
    "Detach role policy, delete role.\n",
    "\"\"\"\n",
    "iam.detach_role_policy(RoleName=config_dict['IAM_ROLE_NAME'], PolicyArn=config_dict['POLICY1'])\n",
    "iam.detach_role_policy(RoleName=config_dict['IAM_ROLE_NAME'], PolicyArn=config_dict['POLICY2'])\n",
    "iam.delete_role(RoleName=config_dict['IAM_ROLE_NAME'])"
   ]
  },
  {
   "cell_type": "code",
   "execution_count": null,
   "metadata": {
    "editable": true
   },
   "outputs": [],
   "source": []
  }
 ],
 "metadata": {
  "kernelspec": {
   "display_name": "Python 3",
   "language": "python",
   "name": "python3"
  },
  "language_info": {
   "codemirror_mode": {
    "name": "ipython",
    "version": 3
   },
   "file_extension": ".py",
   "mimetype": "text/x-python",
   "name": "python",
   "nbconvert_exporter": "python",
   "pygments_lexer": "ipython3",
   "version": "3.6.3"
  }
 },
 "nbformat": 4,
 "nbformat_minor": 4
}
