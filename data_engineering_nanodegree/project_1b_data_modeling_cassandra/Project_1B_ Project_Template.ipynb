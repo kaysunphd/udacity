{
 "cells": [
  {
   "cell_type": "markdown",
   "metadata": {
    "editable": true
   },
   "source": [
    "# Part I. ETL Pipeline for Pre-Processing the Files"
   ]
  },
  {
   "cell_type": "markdown",
   "metadata": {
    "editable": true
   },
   "source": [
    "#### Import Python packages "
   ]
  },
  {
   "cell_type": "code",
   "execution_count": 1,
   "metadata": {
    "editable": true
   },
   "outputs": [],
   "source": [
    "# Import Python packages \n",
    "import pandas as pd\n",
    "import cassandra\n",
    "import re\n",
    "import os\n",
    "import glob\n",
    "import numpy as np\n",
    "import json\n",
    "import csv"
   ]
  },
  {
   "cell_type": "markdown",
   "metadata": {
    "editable": true
   },
   "source": [
    "#### Creating list of filepaths to process original event csv data files"
   ]
  },
  {
   "cell_type": "code",
   "execution_count": 2,
   "metadata": {
    "editable": true
   },
   "outputs": [
    {
     "name": "stdout",
     "output_type": "stream",
     "text": [
      "/home/workspace\n"
     ]
    }
   ],
   "source": [
    "# checking your current working directory\n",
    "print(os.getcwd())\n",
    "\n",
    "# Get your current folder and subfolder event data\n",
    "filepath = os.getcwd() + '/event_data'\n",
    "\n",
    "# Create a for loop to create a list of files and collect each filepath\n",
    "for root, dirs, files in os.walk(filepath):\n",
    "# Skip reading of checkpoints\n",
    "    if 'checkpoints' not in root:\n",
    "# join the file path and roots with the subdirectories using glob\n",
    "        file_path_list = glob.glob(os.path.join(root,'*.csv'))\n",
    "#         print(file_path_list)"
   ]
  },
  {
   "cell_type": "markdown",
   "metadata": {
    "editable": true
   },
   "source": [
    "#### Processing the files to create the data file csv that will be used for Apache Casssandra tables"
   ]
  },
  {
   "cell_type": "code",
   "execution_count": 3,
   "metadata": {
    "editable": true
   },
   "outputs": [],
   "source": [
    "# initiating an empty list of rows that will be generated from each file\n",
    "full_data_rows_list = [] \n",
    "    \n",
    "# for every filepath in the file path list \n",
    "for f in file_path_list:\n",
    "\n",
    "# reading csv file \n",
    "    with open(f, 'r', encoding = 'utf8', newline='') as csvfile: \n",
    "        # creating a csv reader object \n",
    "        csvreader = csv.reader(csvfile) \n",
    "        next(csvreader)\n",
    "        \n",
    " # extracting each data row one by one and append it        \n",
    "        for line in csvreader:\n",
    "            #print(line)\n",
    "            full_data_rows_list.append(line) \n",
    "            \n",
    "# uncomment the code below if you would like to get total number of rows \n",
    "#print(len(full_data_rows_list))\n",
    "# uncomment the code below if you would like to check to see what the list of event data rows will look like\n",
    "#print(full_data_rows_list)\n",
    "\n",
    "# creating a smaller event data csv file called event_datafile_full csv that will be used to insert data into the \\\n",
    "# Apache Cassandra tables\n",
    "csv.register_dialect('myDialect', quoting=csv.QUOTE_ALL, skipinitialspace=True)\n",
    "\n",
    "with open('event_datafile_new.csv', 'w', encoding = 'utf8', newline='') as f:\n",
    "    writer = csv.writer(f, dialect='myDialect')\n",
    "    writer.writerow(['artist','firstName','gender','itemInSession','lastName','length',\\\n",
    "                'level','location','sessionId','song','userId'])\n",
    "    for row in full_data_rows_list:\n",
    "        if (row[0] == ''):\n",
    "            continue\n",
    "        writer.writerow((row[0], row[2], row[3], row[4], row[5], row[6], row[7], row[8], row[12], row[13], row[16]))\n"
   ]
  },
  {
   "cell_type": "code",
   "execution_count": 4,
   "metadata": {
    "editable": true
   },
   "outputs": [
    {
     "name": "stdout",
     "output_type": "stream",
     "text": [
      "6821\n"
     ]
    }
   ],
   "source": [
    "# check the number of rows in your csv file\n",
    "with open('event_datafile_new.csv', 'r', encoding = 'utf8') as f:\n",
    "    print(sum(1 for line in f))"
   ]
  },
  {
   "cell_type": "markdown",
   "metadata": {
    "editable": true
   },
   "source": [
    "# Part II. Create Apache Cassandra tavbles and queries.\n",
    "\n",
    "## Located within the Workspace directory is the event_datafile_new.csv which contains the following columns: \n",
    "- artist \n",
    "- firstName of user\n",
    "- gender of user\n",
    "- item number in session\n",
    "- last name of user\n",
    "- length of the song\n",
    "- level (paid or free song)\n",
    "- location of the user\n",
    "- sessionId\n",
    "- song title\n",
    "- userId\n",
    "\n",
    "The image below is a screenshot of what the denormalized data should appear like in the <font color=red>**event_datafile_new.csv**</font> after the code above is run:<br>\n",
    "\n",
    "<img src=\"images/image_event_datafile_new.jpg\">"
   ]
  },
  {
   "cell_type": "markdown",
   "metadata": {
    "editable": true
   },
   "source": [
    "#### Creating a Cluster"
   ]
  },
  {
   "cell_type": "code",
   "execution_count": 5,
   "metadata": {
    "editable": true
   },
   "outputs": [],
   "source": [
    "# Make a connection to a Cassandra instance your local machine \n",
    "from cassandra.cluster import Cluster\n",
    "try:\n",
    "    cluster = Cluster(['127.0.0.1'])\n",
    "    \n",
    "# To establish connection and begin executing queries, need a session\n",
    "    session = cluster.connect()\n",
    "except Exception as e:\n",
    "    print(e)"
   ]
  },
  {
   "cell_type": "markdown",
   "metadata": {
    "editable": true
   },
   "source": [
    "#### Create Keyspace"
   ]
  },
  {
   "cell_type": "code",
   "execution_count": 6,
   "metadata": {
    "editable": true
   },
   "outputs": [],
   "source": [
    "# Create a Keyspace \n",
    "try:\n",
    "    session.execute(\"\"\"\n",
    "    CREATE KEYSPACE IF NOT EXISTS udacity \n",
    "    WITH REPLICATION = \n",
    "    { 'class' : 'SimpleStrategy', 'replication_factor' : 1 }\"\"\"\n",
    ")\n",
    "except Exception as e:\n",
    "    print(e)"
   ]
  },
  {
   "cell_type": "markdown",
   "metadata": {
    "editable": true
   },
   "source": [
    "#### Set Keyspace"
   ]
  },
  {
   "cell_type": "code",
   "execution_count": 7,
   "metadata": {
    "editable": true
   },
   "outputs": [],
   "source": [
    "# Set KEYSPACE to the keyspace specified above\n",
    "try:\n",
    "    session.set_keyspace('udacity')\n",
    "except Exception as e:\n",
    "    print(e)"
   ]
  },
  {
   "cell_type": "markdown",
   "metadata": {
    "editable": true
   },
   "source": [
    "#### Truncate Printout String for Easy Reading"
   ]
  },
  {
   "cell_type": "code",
   "execution_count": 8,
   "metadata": {
    "editable": true
   },
   "outputs": [],
   "source": [
    "# Truncate printout string\n",
    "def truncate_printout(feature, feature_spacing):\n",
    "    if len(feature) > feature_spacing: \n",
    "        feature = feature[:feature_spacing - 10] + '...'\n",
    "    return feature"
   ]
  },
  {
   "cell_type": "markdown",
   "metadata": {
    "editable": true
   },
   "source": [
    "### Create tables and query\n",
    "\n",
    "#### 1. Create query to return the artist, song title and song's length in the music app history that was heard during a specifc sessionId and specific itemInSession (e.g. sessionId = 338, and itemInSession  = 4)\n",
    "\n",
    "##### Expected output: \"Name of the artist, title of the song and length of the track\"\n",
    "##### Based on: \"sessionId and itemInSession\"\n",
    "\n",
    "##### Composite Key: \"sessionid, itemInSession\""
   ]
  },
  {
   "cell_type": "code",
   "execution_count": 9,
   "metadata": {
    "editable": true
   },
   "outputs": [],
   "source": [
    "# Create table to query artist, song title and song's length for each sessionid and itemInSession.\n",
    "query = \"CREATE TABLE IF NOT EXISTS music_library_by_session \"\n",
    "query = query + \"(sessionid int, itemInSession int, artist text, song text, length float, PRIMARY KEY (sessionid, itemInSession))\"\n",
    "try:\n",
    "    session.execute(query)\n",
    "except Exception as e:\n",
    "    print(e)        "
   ]
  },
  {
   "cell_type": "code",
   "execution_count": 10,
   "metadata": {
    "editable": true
   },
   "outputs": [],
   "source": [
    "# Read in CSV and populate table for each input.\n",
    "file = 'event_datafile_new.csv'\n",
    "\n",
    "with open(file, encoding = 'utf8') as f:\n",
    "    csvreader = csv.reader(f)\n",
    "    next(csvreader) # skip header\n",
    "    for line in csvreader:\n",
    "        # Populate table with sessionid, itemInSession, artist, song, length\n",
    "        query = \"INSERT INTO music_library_by_session (sessionid, iteminsession, artist, song, length) \"\n",
    "        query = query + \"VALUES (%s, %s, %s, %s, %s)\"\n",
    "        # Assign corresponding column elements.\n",
    "        session.execute(query, (int(line[8]), int(line[3]), line[0], line[9], float(line[5])))"
   ]
  },
  {
   "cell_type": "code",
   "execution_count": 11,
   "metadata": {
    "editable": true,
    "scrolled": true
   },
   "outputs": [
    {
     "name": "stdout",
     "output_type": "stream",
     "text": [
      "Artist Name                   | Song Title                    | Song Length\n",
      "----------------------------------------------------------------------\n",
      "Faithless                     | Music Matters (Mark ...       | 495.30731201171875\n"
     ]
    }
   ],
   "source": [
    "# Test to verify data populated.\n",
    "query = \"select artist, song, length from music_library_by_session WHERE sessionid=338 and iteminsession=4\"\n",
    "try:\n",
    "    rows = session.execute(query)\n",
    "except Exception as e:\n",
    "    print(e)\n",
    "\n",
    "# Print out test results\n",
    "artist_spacing = 30\n",
    "song_spacing = 30\n",
    "length_spacing = 10\n",
    "template = '{0:' + str(artist_spacing) + '}| {1:' + str(song_spacing) + '}| {2:' + str(length_spacing) + '}'\n",
    "print(template.format('Artist Name', 'Song Title', 'Song Length'))\n",
    "print('-' * (artist_spacing + song_spacing + length_spacing))\n",
    "for row in rows:  \n",
    "    artist = truncate_printout(row.artist, artist_spacing)\n",
    "    song = truncate_printout(row.song, song_spacing)\n",
    "    \n",
    "    print(template.format(artist, song, row.length))"
   ]
  },
  {
   "cell_type": "markdown",
   "metadata": {
    "editable": true
   },
   "source": [
    "#### 2. Create query to return the name of artist, song (sorted by itemInSession) and user (first and last name) for specific userid and specific sessionid (e.g. userid = 10, sessionid = 182)\n",
    "\n",
    "##### Expected output: \"Name of the artist, title of the song (sorted by itemInSession) and user (first and last name)\"\n",
    "##### Based on: \"userid and sessionid\"\n",
    "\n",
    "##### Composite Key: \"userid, sessionid\"\n",
    "##### Clustering Key: \"itemInSession\" (added for uniqueness and sorting)"
   ]
  },
  {
   "cell_type": "code",
   "execution_count": 12,
   "metadata": {
    "editable": true
   },
   "outputs": [],
   "source": [
    "# Create table to query artist, song title and user first and last name for each userid and sessionid.\n",
    "query = \"CREATE TABLE IF NOT EXISTS music_library_by_user_session \"\n",
    "query = query + \"(userid int, sessionid int, itemInSession int, artist text, song text, firstName text, lastName text, PRIMARY KEY ((userid, sessionid), itemInSession))\"\n",
    "try:\n",
    "    session.execute(query)\n",
    "except Exception as e:\n",
    "    print(e)    "
   ]
  },
  {
   "cell_type": "code",
   "execution_count": 13,
   "metadata": {
    "editable": true
   },
   "outputs": [],
   "source": [
    "# Read in CSV and populate table for each input.\n",
    "file = 'event_datafile_new.csv'\n",
    "\n",
    "with open(file, encoding = 'utf8') as f:\n",
    "    csvreader = csv.reader(f)\n",
    "    next(csvreader) # skip header\n",
    "    for line in csvreader:\n",
    "        # Populate table with userid, sessionid, artist, song, firstName, lastName\n",
    "        query = \"INSERT INTO music_library_by_user_session (userid, sessionid, itemInSession, artist, song, firstName, lastName) \"\n",
    "        query = query + \"VALUES (%s, %s, %s, %s, %s, %s, %s)\"\n",
    "        # Assign corresponding column elements.\n",
    "        session.execute(query, (int(line[10]), int(line[8]), int(line[3]), line[0], line[9], line[1], line[4]))"
   ]
  },
  {
   "cell_type": "code",
   "execution_count": 14,
   "metadata": {
    "editable": true
   },
   "outputs": [
    {
     "name": "stdout",
     "output_type": "stream",
     "text": [
      "Item      | Artist Name                   | Song Title                    | User First Name     | User Last Name      \n",
      "--------------------------------------------------------------------------------------------------------------\n",
      "0         | Down To The Bone              | Keep On Keepin' On            | Sylvie              | Cruz                \n",
      "1         | Three Drives                  | Greece 2000                   | Sylvie              | Cruz                \n",
      "2         | Sebastien Tellier             | Kilometer                     | Sylvie              | Cruz                \n",
      "3         | Lonnie Gordon                 | Catch You Baby (Stev...       | Sylvie              | Cruz                \n"
     ]
    }
   ],
   "source": [
    "# Test to verify data populated.\n",
    "query = \"select itemInSession, artist, song, firstName, lastName from music_library_by_user_session WHERE userid=10 and sessionid=182\"\n",
    "try:\n",
    "    rows = session.execute(query)\n",
    "except Exception as e:\n",
    "    print(e)\n",
    "\n",
    "# Print out test results\n",
    "iteminsession_spacing = 10\n",
    "artist_spacing = 30\n",
    "song_spacing = 30\n",
    "firstname_spacing = 20\n",
    "lastname_spacing = 20\n",
    "template = '{0:' + str(iteminsession_spacing) + '}| {1:' + str(artist_spacing) + '}| {2:' + str(song_spacing) + '}| {3:' + str(firstname_spacing) + '}| {4:' + str(lastname_spacing) + '}'\n",
    "print(template.format('Item', 'Artist Name', 'Song Title', 'User First Name', 'User Last Name' ))\n",
    "print('-' * (iteminsession_spacing + artist_spacing + song_spacing + firstname_spacing + lastname_spacing))\n",
    "for row in rows:\n",
    "    artist = truncate_printout(row.artist, artist_spacing)\n",
    "    song = truncate_printout(row.song, song_spacing)\n",
    "    fist_name = truncate_printout(row.firstname, firstname_spacing)\n",
    "    last_name = truncate_printout(row.lastname, lastname_spacing)\n",
    "    \n",
    "    print(template.format(str(row.iteminsession), artist, song, fist_name, last_name))"
   ]
  },
  {
   "cell_type": "markdown",
   "metadata": {
    "editable": true
   },
   "source": [
    "#### 3. Create query to return every user name (first and last) (sorted by userid) who listened to a specific song (e.g. song ='All Hands Against His Own')\n",
    "\n",
    "##### Expected output: \"user (first and last name)\"\n",
    "##### Based on: \"title of song\"\n",
    "\n",
    "##### Composite Key: \"song\"\n",
    "##### Clustering Key: \"userid\" (added for uniqueness and sorting)"
   ]
  },
  {
   "cell_type": "code",
   "execution_count": 15,
   "metadata": {
    "editable": true
   },
   "outputs": [],
   "source": [
    "# Create table to query user first and last name for each song.\n",
    "query = \"CREATE TABLE IF NOT EXISTS music_library_by_songs_played \"\n",
    "query = query + \"(song text, userid int, firstName text, lastName text, PRIMARY KEY ((song), userid))\"\n",
    "try:\n",
    "    session.execute(query)\n",
    "except Exception as e:\n",
    "    print(e)    \n",
    "                    "
   ]
  },
  {
   "cell_type": "code",
   "execution_count": 16,
   "metadata": {
    "editable": true
   },
   "outputs": [],
   "source": [
    "# Read in CSV and populate table for each input.\n",
    "file = 'event_datafile_new.csv'\n",
    "\n",
    "with open(file, encoding = 'utf8') as f:\n",
    "    csvreader = csv.reader(f)\n",
    "    next(csvreader) # skip header\n",
    "    for line in csvreader:\n",
    "        # Populate table with userid, sessionid, artist, song, firstName, lastName\n",
    "        query = \"INSERT INTO music_library_by_songs_played (song, userid, firstName, lastName) \"\n",
    "        query = query + \"VALUES (%s, %s, %s, %s)\"\n",
    "        # Assign corresponding column elements.\n",
    "        session.execute(query, (line[9], int(line[10]), line[1], line[4]))"
   ]
  },
  {
   "cell_type": "code",
   "execution_count": 17,
   "metadata": {
    "editable": true
   },
   "outputs": [
    {
     "name": "stdout",
     "output_type": "stream",
     "text": [
      "User Id    | User First Name      | User Last Name      \n",
      "--------------------------------------------------\n",
      "29         | Jacqueline           | Lynch               \n",
      "80         | Tegan                | Levine              \n",
      "95         | Sara                 | Johnson             \n"
     ]
    }
   ],
   "source": [
    "# Test to verify data populated.\n",
    "query = \"select userid, firstName, lastName from music_library_by_songs_played WHERE song='All Hands Against His Own'\"\n",
    "try:\n",
    "    rows = session.execute(query)\n",
    "except Exception as e:\n",
    "    print(e)\n",
    "\n",
    "# Print out test results\n",
    "userid_spacing = 10\n",
    "firstname_spacing = 20\n",
    "lastname_spacing = 20\n",
    "template = '{0:' + str(userid_spacing) + '} | {1:' + str(firstname_spacing) + '} | {2:' + str(lastname_spacing) + '}'\n",
    "print(template.format('User Id', 'User First Name', 'User Last Name' ))\n",
    "print('-' * (userid_spacing + firstname_spacing + lastname_spacing))\n",
    "for row in rows:\n",
    "    fist_name = truncate_printout(row.firstname, firstname_spacing)\n",
    "    last_name = truncate_printout(row.lastname, lastname_spacing)\n",
    "    \n",
    "    print(template.format(str(row.userid), fist_name, last_name))"
   ]
  },
  {
   "cell_type": "markdown",
   "metadata": {
    "editable": true
   },
   "source": [
    "#### Drop the tables before closing out the sessions"
   ]
  },
  {
   "cell_type": "code",
   "execution_count": 18,
   "metadata": {
    "editable": true
   },
   "outputs": [],
   "source": [
    "# Drop tables created\n",
    "query = \"drop table if exists music_library_by_session\"\n",
    "try:\n",
    "    rows = session.execute(query)\n",
    "except Exception as e:\n",
    "    print(e)\n",
    "    \n",
    "query = \"drop table if exists music_library_by_user_session\"\n",
    "try:\n",
    "    rows = session.execute(query)\n",
    "except Exception as e:\n",
    "    print(e)\n",
    "    \n",
    "query = \"drop table if exists music_library_by_songs_played\"\n",
    "try:\n",
    "    rows = session.execute(query)\n",
    "except Exception as e:\n",
    "    print(e)"
   ]
  },
  {
   "cell_type": "markdown",
   "metadata": {
    "editable": true
   },
   "source": [
    "#### Close the session and cluster connection¶"
   ]
  },
  {
   "cell_type": "code",
   "execution_count": 19,
   "metadata": {
    "editable": true
   },
   "outputs": [],
   "source": [
    "session.shutdown()\n",
    "cluster.shutdown()"
   ]
  },
  {
   "cell_type": "code",
   "execution_count": null,
   "metadata": {
    "editable": true
   },
   "outputs": [],
   "source": []
  }
 ],
 "metadata": {
  "kernelspec": {
   "display_name": "Python 3",
   "language": "python",
   "name": "python3"
  },
  "language_info": {
   "codemirror_mode": {
    "name": "ipython",
    "version": 3
   },
   "file_extension": ".py",
   "mimetype": "text/x-python",
   "name": "python",
   "nbconvert_exporter": "python",
   "pygments_lexer": "ipython3",
   "version": "3.6.3"
  }
 },
 "nbformat": 4,
 "nbformat_minor": 4
}
